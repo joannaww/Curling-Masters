{
 "cells": [
  {
   "cell_type": "code",
   "execution_count": 140,
   "id": "63834623",
   "metadata": {},
   "outputs": [],
   "source": [
    "import pandas as pd\n",
    "import random\n",
    "import time\n",
    "from datetime import date\n",
    "import numpy as np\n",
    "\n",
    "import mysql.connector as mysql\n",
    "import datetime as dt\n",
    "import matplotlib.pyplot as plt\n",
    "from pandasql import sqldf\n",
    "from dateutil.relativedelta import relativedelta\n",
    "import itertools as it\n",
    "from scipy.stats import beta"
   ]
  },
  {
   "cell_type": "code",
   "execution_count": 138,
   "id": "8d14eae1",
   "metadata": {},
   "outputs": [],
   "source": [
    "def match_schedule(list_of_teams):\n",
    "    \n",
    "    l1 = list(it.combinations(list_of_teams, 2))\n",
    "    l2 = [list(i) for i in l1]\n",
    "    l2[2].reverse()\n",
    "    l2[3].reverse()\n",
    "    l2[6].reverse()\n",
    "    random.shuffle(l2) # pierwsza połowa ligi\n",
    "    \n",
    "    l3 = [list(reversed(i)) for i in l2] # druga połowa ligi\n",
    "    \n",
    "    return l2 + l3"
   ]
  },
  {
   "cell_type": "code",
   "execution_count": 139,
   "id": "774d5f97",
   "metadata": {},
   "outputs": [
    {
     "data": {
      "text/plain": [
       "[[3, 5],\n",
       " [5, 2],\n",
       " [4, 5],\n",
       " [1, 2],\n",
       " [3, 4],\n",
       " [2, 4],\n",
       " [2, 3],\n",
       " [4, 1],\n",
       " [1, 3],\n",
       " [5, 1],\n",
       " [5, 3],\n",
       " [2, 5],\n",
       " [5, 4],\n",
       " [2, 1],\n",
       " [4, 3],\n",
       " [4, 2],\n",
       " [3, 2],\n",
       " [1, 4],\n",
       " [3, 1],\n",
       " [1, 5]]"
      ]
     },
     "execution_count": 139,
     "metadata": {},
     "output_type": "execute_result"
    }
   ],
   "source": [
    "match_schedule([1,2,3,4,5])"
   ]
  },
  {
   "cell_type": "code",
   "execution_count": 126,
   "id": "5951017a",
   "metadata": {},
   "outputs": [
    {
     "data": {
      "text/plain": [
       "[[4, 5],\n",
       " [2, 3],\n",
       " [5, 2],\n",
       " [3, 4],\n",
       " [1, 3],\n",
       " [1, 2],\n",
       " [5, 1],\n",
       " [2, 4],\n",
       " [4, 1],\n",
       " [3, 5]]"
      ]
     },
     "execution_count": 126,
     "metadata": {},
     "output_type": "execute_result"
    }
   ],
   "source": [
    "matches([1,2,3,4,5])"
   ]
  },
  {
   "cell_type": "code",
   "execution_count": 117,
   "id": "fd161fb0",
   "metadata": {},
   "outputs": [
    {
     "data": {
      "text/plain": [
       "[(1, 2),\n",
       " (1, 3),\n",
       " (1, 4),\n",
       " (1, 5),\n",
       " (2, 3),\n",
       " (2, 4),\n",
       " (2, 5),\n",
       " (3, 4),\n",
       " (3, 5),\n",
       " (4, 5)]"
      ]
     },
     "execution_count": 117,
     "metadata": {},
     "output_type": "execute_result"
    }
   ],
   "source": [
    "list(it.combinations([1,2,3,4,5], 2))"
   ]
  },
  {
   "cell_type": "code",
   "execution_count": 58,
   "id": "e3c49583",
   "metadata": {},
   "outputs": [],
   "source": [
    "my_connection = mysql.connect(\n",
    "host=\"giniewicz.it\",\n",
    "user=\"student\",\n",
    "password=\"57u>3n7\"\n",
    ")"
   ]
  },
  {
   "cell_type": "code",
   "execution_count": 90,
   "id": "96c12945",
   "metadata": {},
   "outputs": [],
   "source": [
    "cursor = my_connection.cursor()"
   ]
  },
  {
   "cell_type": "code",
   "execution_count": 2,
   "id": "d794ce82",
   "metadata": {},
   "outputs": [],
   "source": [
    "def generate_name(file):\n",
    "    \"\"\"\n",
    "    Funkcja zwraca wylosowane imię ze 100 najbardziej znanych w Polsce imion. \n",
    "    \"\"\"\n",
    "    \n",
    "    df = pd.read_csv(file)[1:100]\n",
    "    n = df[\"IMIĘ_PIERWSZE\"].sample(1)\n",
    "    \n",
    "    return n.to_string(index=False)"
   ]
  },
  {
   "cell_type": "code",
   "execution_count": 13,
   "id": "19c9f7d4",
   "metadata": {},
   "outputs": [
    {
     "data": {
      "text/plain": [
       "'ANITA'"
      ]
     },
     "execution_count": 13,
     "metadata": {},
     "output_type": "execute_result"
    }
   ],
   "source": [
    "generate_name(\"IMIONA_ZENSKIE.csv\")"
   ]
  },
  {
   "cell_type": "code",
   "execution_count": 14,
   "id": "66f5e2d6",
   "metadata": {},
   "outputs": [
    {
     "data": {
      "text/plain": [
       "'VOLODYMYR'"
      ]
     },
     "execution_count": 14,
     "metadata": {},
     "output_type": "execute_result"
    }
   ],
   "source": [
    "generate_name(\"IMIONA_MESKIE.csv\")"
   ]
  },
  {
   "cell_type": "code",
   "execution_count": 3,
   "id": "48680a02",
   "metadata": {},
   "outputs": [],
   "source": [
    "def generate_surname(file):\n",
    "    \"\"\"\n",
    "    Funkcja zwraca wylosowane nazwisko ze 100 najbardziej znanych w Polsce nazwisk. \n",
    "    \"\"\"\n",
    "    \n",
    "    df = pd.read_csv(file)[1:100]\n",
    "    n = df[\"Nazwisko aktualne\"].sample(1)\n",
    "    \n",
    "    return n.to_string(index=False)"
   ]
  },
  {
   "cell_type": "code",
   "execution_count": 7,
   "id": "3220d943",
   "metadata": {},
   "outputs": [
    {
     "data": {
      "text/plain": [
       "'SZCZEPANIAK'"
      ]
     },
     "execution_count": 7,
     "metadata": {},
     "output_type": "execute_result"
    }
   ],
   "source": [
    "generate_surname(\"NAZWISKA_ZENSKIE.csv\")"
   ]
  },
  {
   "cell_type": "code",
   "execution_count": 8,
   "id": "ced3f887",
   "metadata": {},
   "outputs": [
    {
     "data": {
      "text/plain": [
       "'PIOTROWSKI'"
      ]
     },
     "execution_count": 8,
     "metadata": {},
     "output_type": "execute_result"
    }
   ],
   "source": [
    "generate_surname(\"NAZWISKA_MESKIE.csv\")"
   ]
  },
  {
   "cell_type": "code",
   "execution_count": 4,
   "id": "1cf7d948",
   "metadata": {},
   "outputs": [],
   "source": [
    "def str_time_prop(start, end, time_format, prop):\n",
    "    \"\"\"\n",
    "    Zwraca datę pomiędzy dwiema ustalonymi (w odstępie takim jak argument (0,1))\n",
    "    \"\"\"\n",
    "\n",
    "    stime = time.mktime(time.strptime(start, time_format))\n",
    "    etime = time.mktime(time.strptime(end, time_format))\n",
    "\n",
    "    ptime = stime + prop * (etime - stime)\n",
    "\n",
    "    return time.strftime(time_format, time.localtime(ptime))"
   ]
  },
  {
   "cell_type": "code",
   "execution_count": 3,
   "id": "ff86f2e8",
   "metadata": {},
   "outputs": [
    {
     "data": {
      "text/plain": [
       "'01/01/1942'"
      ]
     },
     "execution_count": 3,
     "metadata": {},
     "output_type": "execute_result"
    }
   ],
   "source": [
    "str_time_prop(\"01/01/1922\", \"01/01/1962\", '%d/%m/%Y', 0.5)"
   ]
  },
  {
   "cell_type": "code",
   "execution_count": 5,
   "id": "fe6712a7",
   "metadata": {},
   "outputs": [],
   "source": [
    "def random_date(start, end):\n",
    "    \"\"\"\n",
    "    Losuje odstęp i wywołuje funkcje zwracającą date\n",
    "    \n",
    "    W ogólności funkcja za pomocą funkcji str_time_prop zwraca losową datę pomiędzy dwiema zadanymi \n",
    "    w argumentach danymi. Będzie do losowania JoinDate\n",
    "    \"\"\"\n",
    "    prop=random.random()\n",
    "    start = start.strftime('%d/%m/%Y')\n",
    "    end = end.strftime('%d/%m/%Y')\n",
    "    d = str_time_prop(start, end, '%d/%m/%Y', prop)\n",
    "    return dt.datetime.strptime(d, '%d/%m/%Y')"
   ]
  },
  {
   "cell_type": "code",
   "execution_count": 18,
   "id": "3e08e8d2",
   "metadata": {},
   "outputs": [
    {
     "data": {
      "text/plain": [
       "datetime.datetime(1989, 6, 9, 0, 0)"
      ]
     },
     "execution_count": 18,
     "metadata": {},
     "output_type": "execute_result"
    }
   ],
   "source": [
    "random_date(dt.datetime(1979, 2, 18, 0, 0), dt.datetime(1992, 2, 18, 0, 0))"
   ]
  },
  {
   "cell_type": "code",
   "execution_count": 6,
   "id": "a6eba8ed",
   "metadata": {},
   "outputs": [],
   "source": [
    "def generate_email(name, surname):\n",
    "    \n",
    "    \"\"\"\n",
    "    Funkcja zwraca email osoby \n",
    "    \"\"\"\n",
    "    \n",
    "    number = int(random.random()*10000)\n",
    "    mail = name.lower() + '.' + surname.lower() + str(number) + '@giniewicz.it.com'\n",
    "    \n",
    "    return mail"
   ]
  },
  {
   "cell_type": "code",
   "execution_count": 20,
   "id": "a86e3820",
   "metadata": {},
   "outputs": [
    {
     "ename": "NameError",
     "evalue": "name 'email' is not defined",
     "output_type": "error",
     "traceback": [
      "\u001b[0;31m---------------------------------------------------------------------------\u001b[0m",
      "\u001b[0;31mNameError\u001b[0m                                 Traceback (most recent call last)",
      "\u001b[0;32m/var/folders/gx/5fq598cs4qb1zn8jlnpd4hym0000gn/T/ipykernel_82258/107105771.py\u001b[0m in \u001b[0;36m<module>\u001b[0;34m\u001b[0m\n\u001b[1;32m      1\u001b[0m \u001b[0mname\u001b[0m \u001b[0;34m=\u001b[0m \u001b[0mgenerate_name\u001b[0m\u001b[0;34m(\u001b[0m\u001b[0;34m\"IMIONA_ZENSKIE.csv\"\u001b[0m\u001b[0;34m)\u001b[0m\u001b[0;34m\u001b[0m\u001b[0;34m\u001b[0m\u001b[0m\n\u001b[1;32m      2\u001b[0m \u001b[0msurname\u001b[0m \u001b[0;34m=\u001b[0m \u001b[0mgenerate_surname\u001b[0m\u001b[0;34m(\u001b[0m\u001b[0;34m\"NAZWISKA_ZENSKIE.csv\"\u001b[0m\u001b[0;34m)\u001b[0m\u001b[0;34m\u001b[0m\u001b[0;34m\u001b[0m\u001b[0m\n\u001b[0;32m----> 3\u001b[0;31m \u001b[0memail\u001b[0m\u001b[0;34m(\u001b[0m\u001b[0mname\u001b[0m\u001b[0;34m,\u001b[0m \u001b[0msurname\u001b[0m\u001b[0;34m)\u001b[0m\u001b[0;34m\u001b[0m\u001b[0;34m\u001b[0m\u001b[0m\n\u001b[0m",
      "\u001b[0;31mNameError\u001b[0m: name 'email' is not defined"
     ]
    }
   ],
   "source": [
    "name = generate_name(\"IMIONA_ZENSKIE.csv\")\n",
    "surname = generate_surname(\"NAZWISKA_ZENSKIE.csv\")\n",
    "email(name, surname)"
   ]
  },
  {
   "cell_type": "code",
   "execution_count": 7,
   "id": "e1673f0a",
   "metadata": {},
   "outputs": [],
   "source": [
    "def generate_phone():\n",
    "    \n",
    "    \"\"\"\n",
    "    Funkcja zwraca numer osoby \n",
    "    \"\"\"\n",
    "    \n",
    "    phone = random.randint(500000000, 900000000)\n",
    "    return phone"
   ]
  },
  {
   "cell_type": "code",
   "execution_count": 15,
   "id": "6d71cbea",
   "metadata": {},
   "outputs": [
    {
     "data": {
      "text/plain": [
       "522679007"
      ]
     },
     "execution_count": 15,
     "metadata": {},
     "output_type": "execute_result"
    }
   ],
   "source": [
    "generate_phone()"
   ]
  },
  {
   "cell_type": "code",
   "execution_count": 16,
   "id": "e7a027e2",
   "metadata": {},
   "outputs": [],
   "source": [
    "df = pd.read_csv(\"ADRESY_beta.csv\", sep = \";\")\n",
    "df = df[[\"MIEJCOWOSC\", \"NAZWA_ULICY\", \"NUMER\"]]"
   ]
  },
  {
   "cell_type": "code",
   "execution_count": 17,
   "id": "7c41a198",
   "metadata": {},
   "outputs": [],
   "source": [
    "df.to_csv('ADRESY.csv', index = False)"
   ]
  },
  {
   "cell_type": "code",
   "execution_count": 8,
   "id": "4af18ba5",
   "metadata": {},
   "outputs": [],
   "source": [
    "def generate_address(file): \n",
    "    \n",
    "    df = pd.read_csv(file)\n",
    "    row = df.sample(1)\n",
    "    \n",
    "    city = row[\"MIEJCOWOSC\"].to_string(index=False)\n",
    "    street = row[\"NAZWA_ULICY\"].to_string(index=False)\n",
    "    number = row[\"NUMER\"].to_string(index=False)\n",
    "    \n",
    "    address = street + \" \" + number + \" \" + city\n",
    "    \n",
    "    return address"
   ]
  },
  {
   "cell_type": "code",
   "execution_count": 19,
   "id": "22d4d829",
   "metadata": {},
   "outputs": [
    {
     "data": {
      "text/plain": [
       "'ulica Potażowa 31 Warszawa'"
      ]
     },
     "execution_count": 19,
     "metadata": {},
     "output_type": "execute_result"
    }
   ],
   "source": [
    "generate_address(\"ADRESY.csv\")"
   ]
  },
  {
   "cell_type": "code",
   "execution_count": 9,
   "id": "8188b97f",
   "metadata": {},
   "outputs": [],
   "source": [
    "def generate_gender():\n",
    "\n",
    "    x = random.random()\n",
    "    \n",
    "    if 0 < x < 0.01:\n",
    "        return \"OTHER\"\n",
    "    elif 0.01 < x < 0.522:\n",
    "        return \"FEMALE\"\n",
    "    else:\n",
    "        return \"MALE\""
   ]
  },
  {
   "cell_type": "code",
   "execution_count": 28,
   "id": "234a013a",
   "metadata": {},
   "outputs": [
    {
     "data": {
      "text/plain": [
       "'MALE'"
      ]
     },
     "execution_count": 28,
     "metadata": {},
     "output_type": "execute_result"
    }
   ],
   "source": [
    "generate_gender()"
   ]
  },
  {
   "cell_type": "code",
   "execution_count": 10,
   "id": "90b7ed01",
   "metadata": {},
   "outputs": [],
   "source": [
    "def generate_depart_date(company_start, current_date):\n",
    "    \n",
    "    \"\"\"\n",
    "    Funkcja zwraca datę odejścia pracownika lub gracza,\n",
    "    musimy ustalić z jakimś prawdopodobieństwem ludzie odchodzą\n",
    "    \"\"\"\n",
    "    \n",
    "    x = random.random()\n",
    "    \n",
    "    if 0 < x < 0.1:\n",
    "        date = random_date(company_start, current_date)\n",
    "    else:\n",
    "        date = \"01/01/9999\"\n",
    "        date = dt.datetime.strptime(date, '%d/%m/%Y')\n",
    "    \n",
    "    \n",
    "    return date"
   ]
  },
  {
   "cell_type": "code",
   "execution_count": 145,
   "id": "1c49df14",
   "metadata": {},
   "outputs": [
    {
     "data": {
      "text/plain": [
       "datetime.datetime(1979, 2, 18, 0, 0)"
      ]
     },
     "execution_count": 145,
     "metadata": {},
     "output_type": "execute_result"
    }
   ],
   "source": [
    "generate_depart_date(\"01/01/1922\", \"01/06/2022\")"
   ]
  },
  {
   "cell_type": "code",
   "execution_count": 11,
   "id": "3c867e5f",
   "metadata": {},
   "outputs": [],
   "source": [
    "def generate_income(min_income, max_income):\n",
    "    \n",
    "    \"\"\"\n",
    "    Funckcja zwraca losowe dochody danego pracownika.\n",
    "    \"\"\"\n",
    "    \n",
    "    income = random.randint(min_income ,max_income)\n",
    "    \n",
    "    return income"
   ]
  },
  {
   "cell_type": "code",
   "execution_count": 229,
   "id": "f011feef",
   "metadata": {},
   "outputs": [],
   "source": [
    "def num_of_spectators(data, middle_of_season, _min = 0, _max = 200):\n",
    "    \n",
    "    \"\"\"\n",
    "    Funkcja zwraca liczbę osób na widowni w czasie meczu\n",
    "    \"\"\"\n",
    "    \n",
    "    delta = abs((middle_of_season - data).days) / 70 # różnica czasowa między środkiem sezonu, a naszym meczem /70, bo to polowa sezonu\n",
    "    \n",
    "    x = beta(2+3*delta, 5-3*delta).rvs()\n",
    "    \n",
    "    return round(x*200)  "
   ]
  },
  {
   "cell_type": "code",
   "execution_count": 151,
   "id": "19b744fc",
   "metadata": {},
   "outputs": [
    {
     "data": {
      "text/plain": [
       "101"
      ]
     },
     "execution_count": 151,
     "metadata": {},
     "output_type": "execute_result"
    }
   ],
   "source": [
    "spectators(dt.datetime(2022, 2, 18, 0, 0), dt.datetime(2022, 2, 20, 0, 0))"
   ]
  },
  {
   "cell_type": "code",
   "execution_count": 190,
   "id": "e1b97c04",
   "metadata": {},
   "outputs": [],
   "source": [
    "def score():\n",
    "    \n",
    "    score_a = round(beta(5,9).rvs()*20)\n",
    "    score_b = round(beta(5,9).rvs()*20)\n",
    "    \n",
    "    if score_a == score_b:\n",
    "        if np.random.binomial(1,0.5):\n",
    "            score_a += 1\n",
    "        else:\n",
    "            score_b += 1\n",
    "            \n",
    "    return score_a, score_b\n",
    "        "
   ]
  },
  {
   "cell_type": "code",
   "execution_count": 219,
   "id": "f68a1e90",
   "metadata": {},
   "outputs": [
    {
     "data": {
      "text/plain": [
       "(6, 11)"
      ]
     },
     "execution_count": 219,
     "metadata": {},
     "output_type": "execute_result"
    }
   ],
   "source": [
    "score()"
   ]
  },
  {
   "cell_type": "code",
   "execution_count": 258,
   "id": "d4b61042",
   "metadata": {},
   "outputs": [],
   "source": [
    "def fill(cursor):\n",
    "    \n",
    "    staff_depart_dates = []\n",
    "    staff_depart_id = []\n",
    "    c = 0 \n",
    "    def info_fill_staff():\n",
    "\n",
    "        for i in range(1, 16):\n",
    "\n",
    "            gender = generate_gender()\n",
    "            if gender == \"FEMALE\":\n",
    "                file1 = \"IMIONA_ZENSKIE.csv\"\n",
    "                file2 = \"NAZWISKA_ZENSKIE.csv\"\n",
    "            elif gender == \"MALE\":\n",
    "                file1 = \"IMIONA_MESKIE.csv\"\n",
    "                file2 = \"NAZWISKA_MESKIE.csv\"\n",
    "            else:\n",
    "                x = random.random()\n",
    "                if 0 < x < 0.5:\n",
    "                    file1 = \"IMIONA_ZENSKIE.csv\"\n",
    "                    file2 = \"NAZWISKA_ZENSKIE.csv\"\n",
    "                else:\n",
    "                    file1 = \"IMIONA_MESKIE.csv\"\n",
    "                    file2 = \"NAZWISKA_MESKIE.csv\"\n",
    "\n",
    "\n",
    "            first_name = generate_name(file1)\n",
    "            last_name = generate_surname(file2)\n",
    "            address = generate_address(\"ADRESY.csv\")\n",
    "            join_date = dt.date(2020, 9, 1)\n",
    "            depart_date = generate_depart_date(dt.datetime(2020, 10, 1), dt.datetime.today())\n",
    "\n",
    "            if depart_date != dt.datetime(9999, 1, 1, 0, 0):\n",
    "                staff_depart_dates.append((i, depart_date))\n",
    "\n",
    "            birth_date = random_date(dt.datetime(1958, 1, 1), dt.datetime(2002, 1, 1))\n",
    "            email = generate_email(first_name, last_name)\n",
    "            phone = generate_phone()\n",
    "\n",
    "            qr = ('INSERT INTO team9.Info ' \n",
    "                  '(InfoID, FirstName, LastName, Address, JoinDate, DepartDate, BirthDate, Email, Phone, Gender) ' \n",
    "                  'VALUES (%s, %s, %s, %s, %s, %s, %s, %s, %s, %s)')\n",
    "            cursor.execute(qr, (i, first_name, last_name, address, join_date, depart_date, birth_date, email, phone, gender))\n",
    "            \n",
    "            \n",
    "            \n",
    "        for i in range(1, len(staff_depart_dates)+1):\n",
    "            \n",
    "            gender = generate_gender()\n",
    "            if gender == \"FEMALE\":\n",
    "                file1 = \"IMIONA_ZENSKIE.csv\"\n",
    "                file2 = \"NAZWISKA_ZENSKIE.csv\"\n",
    "            elif gender == \"MALE\":\n",
    "                file1 = \"IMIONA_MESKIE.csv\"\n",
    "                file2 = \"NAZWISKA_MESKIE.csv\"\n",
    "            else:\n",
    "                x = random.random()\n",
    "                if 0 < x < 0.5:\n",
    "                    file1 = \"IMIONA_ZENSKIE.csv\"\n",
    "                    file2 = \"NAZWISKA_ZENSKIE.csv\"\n",
    "                else:\n",
    "                    file1 = \"IMIONA_MESKIE.csv\"\n",
    "                    file2 = \"NAZWISKA_MESKIE.csv\"\n",
    "\n",
    "\n",
    "            first_name = generate_name(file1)\n",
    "            last_name = generate_surname(file2)\n",
    "            address = generate_address(\"ADRESY.csv\")\n",
    "            birth_date = random_date(dt.datetime(1958, 1, 1), dt.datetime.today())\n",
    "            email = generate_email(first_name, last_name)\n",
    "            phone = generate_phone()\n",
    "            join_date = staff_depart_dates[i-1][1]\n",
    "            depart_date = dt.datetime(9999, 1, 1, 0, 0)\n",
    "            \n",
    "            qr = ('INSERT INTO team9.Info ' \n",
    "                  '(InfoID, FirstName, LastName, Address, JoinDate, DepartDate, BirthDate, Email, Phone, Gender) ' \n",
    "                  'VALUES (%s, %s, %s, %s, %s, %s, %s, %s, %s, %s)')\n",
    "            cursor.execute(qr, (i+15, first_name, last_name, address, join_date, depart_date, birth_date, email, phone, gender))\n",
    "        \n",
    "        global num_of_staff\n",
    "        num_of_staff = len(staff_depart_dates) + 15\n",
    "            \n",
    "        for i in staff_depart_dates:\n",
    "            staff_depart_id.append(i[0])\n",
    "            \n",
    "    def info_fill_players():\n",
    "        \n",
    "        for i in range(25):\n",
    "            \n",
    "            gender = \"FEMALE\"\n",
    "            file1 = \"IMIONA_ZENSKIE.csv\"\n",
    "            file2 = \"NAZWISKA_ZENSKIE.csv\"\n",
    "            first_name = generate_name(file1)\n",
    "            last_name = generate_surname(file2)\n",
    "            address = generate_address(\"ADRESY.csv\")\n",
    "            join_date = dt.date(2020, 10, 1) # miesiąc po otwarciu firmy\n",
    "            depart_date = dt.datetime(9999, 9, 9) # na pałe\n",
    "            birth_date = random_date(dt.datetime(1954, 1, 1), dt.datetime(1962, 1, 1)) # poniżej 70 hihi\n",
    "            email = generate_email(first_name, last_name)\n",
    "            phone = generate_phone()\n",
    "            \n",
    "            qr = ('INSERT INTO team9.Info ' \n",
    "                  '(FirstName, LastName, Address, JoinDate, DepartDate, BirthDate, Email, Phone, Gender) ' \n",
    "                  'VALUES (%s, %s, %s, %s, %s, %s, %s, %s, %s)')\n",
    "            cursor.execute(qr, (first_name, last_name, address, join_date, depart_date, birth_date, email, phone, gender))\n",
    "            \n",
    "        for i in range(25):\n",
    "            \n",
    "            gender = \"FEMALE\"\n",
    "            file1 = \"IMIONA_ZENSKIE.csv\"\n",
    "            file2 = \"NAZWISKA_ZENSKIE.csv\"\n",
    "            first_name = generate_name(file1)\n",
    "            last_name = generate_surname(file2)\n",
    "            address = generate_address(\"ADRESY.csv\")\n",
    "            join_date = dt.date(2020, 10, 1) # miesiąc po otwarciu firmy\n",
    "            depart_date = dt.datetime(9999, 9, 9) # na pałe\n",
    "            birth_date = random_date(dt.datetime(1932, 1, 1), dt.datetime(1949, 1, 1)) # powyżej 70, ale ponizej 90 hihi\n",
    "            email = generate_email(first_name, last_name)\n",
    "            phone = generate_phone()\n",
    "            \n",
    "            qr = ('INSERT INTO team9.Info ' \n",
    "                  '(FirstName, LastName, Address, JoinDate, DepartDate, BirthDate, Email, Phone, Gender) ' \n",
    "                  'VALUES (%s, %s, %s, %s, %s, %s, %s, %s, %s)')\n",
    "            cursor.execute(qr, (first_name, last_name, address, join_date, depart_date, birth_date, email, phone, gender))\n",
    "            \n",
    "        for i in range(25):\n",
    "            \n",
    "            gender = \"MALE\"\n",
    "            file1 = \"IMIONA_MESKIE.csv\"\n",
    "            file2 = \"NAZWISKA_MESKIE.csv\"\n",
    "            first_name = generate_name(file1)\n",
    "            last_name = generate_surname(file2)\n",
    "            address = generate_address(\"ADRESY.csv\")\n",
    "            join_date = dt.date(2020, 10, 1) # miesiąc po otwarciu firmy\n",
    "            depart_date = dt.datetime(9999, 9, 9) # na pałe\n",
    "            birth_date = random_date(dt.datetime(1954, 1, 1), dt.datetime(1962, 1, 1)) # poniżej 70 hihi\n",
    "            email = generate_email(first_name, last_name)\n",
    "            phone = generate_phone()\n",
    "            \n",
    "            qr = ('INSERT INTO team9.Info ' \n",
    "                  '(FirstName, LastName, Address, JoinDate, DepartDate, BirthDate, Email, Phone, Gender) ' \n",
    "                  'VALUES (%s, %s, %s, %s, %s, %s, %s, %s, %s)')\n",
    "            cursor.execute(qr, (first_name, last_name, address, join_date, depart_date, birth_date, email, phone, gender))\n",
    "            \n",
    "        for i in range(25):\n",
    "            \n",
    "            gender = \"MALE\"\n",
    "            file1 = \"IMIONA_MESKIE.csv\"\n",
    "            file2 = \"NAZWISKA_MESKIE.csv\"\n",
    "            first_name = generate_name(file1)\n",
    "            last_name = generate_surname(file2)\n",
    "            address = generate_address(\"ADRESY.csv\")\n",
    "            join_date = dt.date(2020, 10, 1) # miesiąc po otwarciu firmy\n",
    "            depart_date = dt.datetime(9999, 9, 9) # na pałe\n",
    "            birth_date = random_date(dt.datetime(1932, 1, 1), dt.datetime(1949, 1, 1)) # poniżej 70 hihi\n",
    "            email = generate_email(first_name, last_name)\n",
    "            phone = generate_phone()\n",
    "            \n",
    "            qr = ('INSERT INTO team9.Info ' \n",
    "                  '(FirstName, LastName, Address, JoinDate, DepartDate, BirthDate, Email, Phone, Gender) ' \n",
    "                  'VALUES (%s, %s, %s, %s, %s, %s, %s, %s, %s)')\n",
    "            cursor.execute(qr, (first_name, last_name, address, join_date, depart_date, birth_date, email, phone, gender))\n",
    "                 \n",
    "            \n",
    "    def staff_fill():\n",
    "        \n",
    "        positions = {1:\"PREZES\", 2:\"WICEPREZES\", 3:\"KSIĘGOWY\", 4:\"WOŹNY\", 13:\"FIZJOTERAPEUTA\", 14:\"KONSERWATOR LODU\",\n",
    "                    15:\"ZŁOTA RĄCZKA\"}\n",
    "        positions.update(dict.fromkeys([5, 6, 7, 8, 9, 10, 11, 12], \"TRENER\"))\n",
    "\n",
    "        \n",
    "        for i in range(1,16):\n",
    "            qr = ('INSERT INTO team9.Staff ' \n",
    "                  '(StaffID, Position, InfoID, Active) ' \n",
    "                  'VALUES (%s, %s, %s, %s)')\n",
    "            \n",
    "            if i in staff_depart_id:\n",
    "                active = False\n",
    "            else:\n",
    "                active = True\n",
    "                \n",
    "            cursor.execute(qr, (i, positions[i], i, active))\n",
    "            \n",
    "        for i in range(1, len(staff_depart_dates)+1):\n",
    "            qr = ('INSERT INTO team9.Staff ' \n",
    "                  '(StaffID, Position, InfoID, Active) ' \n",
    "                  'VALUES (%s, %s, %s, %s)')\n",
    "            \n",
    "            active = True\n",
    "            \n",
    "            cursor.execute(qr, (i+15, positions[staff_depart_dates[i-1][0]], i+15, active))\n",
    "            \n",
    "    def salaries_fill():\n",
    "        \n",
    "        salaries = {\"PREZES\":15000.0, \"WICEPREZES\":10000.0, \"KONSERWATOR LODU\":4000.0}\n",
    "        salaries.update(dict.fromkeys([\"KSIĘGOWY\",\"WOŹNY\"], 3100.0))\n",
    "        salaries.update(dict.fromkeys([\"FIZJOTERAPEUTA\", \"ZŁOTA RĄCZKA\"], 3500.0))\n",
    "        salaries.update(dict.fromkeys([\"TRENER\"], 4000.0))\n",
    "        \n",
    "        qr = \"\"\"SELECT COUNT(*) FROM team9.Staff\"\"\"\n",
    "        cursor.execute(qr)\n",
    "        k = cursor.fetchone()[0]\n",
    "        \n",
    "        \n",
    "        salaries_list = []    \n",
    "        for i in range(1,k+1):\n",
    "            \n",
    "            qr = ('SELECT JoinDate, DepartDate FROM team9.Info WHERE InfoID = %s ')\n",
    "            cursor.execute(qr, [i])\n",
    "            join_date, depart_date = cursor.fetchone()\n",
    "            \n",
    "            qr = ('SELECT Position FROM team9.Staff WHERE StaffID = %s ')\n",
    "            cursor.execute(qr, [i])\n",
    "            position = cursor.fetchone()[0]\n",
    "            \n",
    "            flag = 0 \n",
    "            time_change = relativedelta(months = 1)\n",
    "            month_later = join_date + time_change\n",
    "            date = dt.date(month_later.year, month_later.month, 10) # pierwsza wypłata\n",
    "            salary = salaries[position]\n",
    "            while flag == 0:\n",
    "                \n",
    "                salaries_list.append((date, salary, i)) # pierwsza wypłata normalna\n",
    "                \n",
    "                if np.random.binomial(1,0.05):\n",
    "                    salary += 100 # premia\n",
    "                elif np.random.binomial(1,0.02) and salary >= 3110: # minimalna krajowa\n",
    "                    salary -= 100 # kara\n",
    "                \n",
    "            \n",
    "                if date >= depart_date:\n",
    "                    flag += 1\n",
    "                date += time_change\n",
    "                if date >= dt.date.today():\n",
    "                    flag += 1\n",
    "                    \n",
    "        qr = ('INSERT INTO team9.Salaries ' \n",
    "                  '(Date, Amount, StaffID) ' \n",
    "                  'VALUES (%s, %s, %s)')\n",
    "        \n",
    "        salaries_list.sort()\n",
    "        cursor.executemany(qr, salaries_list)\n",
    "                    \n",
    "    def teams_fill():\n",
    "        \n",
    "        team_names = [\"ŻABKI\", \"PSZCZÓŁKI\", \"KANGURY\", \"SŁONIKI\", \"ŁOSOSIE\", \"TYGRYSY\", \"PANTERY\", \"WILKI\", \n",
    "                     \"SZCZUPAKI\", \"KUNY\", \"MOTYLKI\", \"DELFINY\", \"KOZY\", \"IGUANY\", \"SARENKI\", \"KRÓWKI\",\n",
    "                     \"KURY\", \"OWIECZKI\", \"RYSIE\", \"ZEBRY\"]\n",
    "        \n",
    "        for i in range(5):\n",
    "            \n",
    "            team_name = team_names.pop(random.randint(0,len(team_names)-1))\n",
    "            _type = \"FEMALE\"\n",
    "            age_category = \"JUNIORS\"\n",
    "            \n",
    "            qr = ('INSERT INTO team9.Teams ' \n",
    "                      '(TeamName, Type, AgeCategory) ' \n",
    "                      'VALUES (%s, %s, %s)')\n",
    "                \n",
    "            cursor.execute(qr, (team_name, _type, age_category))\n",
    "            \n",
    "        for i in range(5):\n",
    "            \n",
    "            team_name = team_names.pop(random.randint(0,len(team_names)-1))\n",
    "            _type = \"FEMALE\"\n",
    "            age_category = \"SENIORS\"\n",
    "            \n",
    "            qr = ('INSERT INTO team9.Teams ' \n",
    "                      '(TeamName, Type, AgeCategory) ' \n",
    "                      'VALUES (%s, %s, %s)')\n",
    "                \n",
    "            cursor.execute(qr, (team_name, _type, age_category))\n",
    "            \n",
    "        for i in range(5):\n",
    "            \n",
    "            team_name = team_names.pop(random.randint(0,len(team_names)-1))\n",
    "            _type = \"MALE\"\n",
    "            age_category = \"JUNIORS\"\n",
    "            \n",
    "            qr = ('INSERT INTO team9.Teams ' \n",
    "                      '(TeamName, Type, AgeCategory) ' \n",
    "                      'VALUES (%s, %s, %s)')\n",
    "                \n",
    "            cursor.execute(qr, (team_name, _type, age_category))\n",
    "            \n",
    "        for i in range(5):\n",
    "            \n",
    "            team_name = team_names.pop(random.randint(0,len(team_names)-1))\n",
    "            _type = \"MALE\"\n",
    "            age_category = \"SENIORS\"\n",
    "            \n",
    "            qr = ('INSERT INTO team9.Teams ' \n",
    "                      '(TeamName, Type, AgeCategory) ' \n",
    "                      'VALUES (%s, %s, %s)')\n",
    "                \n",
    "            cursor.execute(qr, (team_name, _type, age_category))\n",
    "            \n",
    "    def players_fill():\n",
    "        \n",
    "        team_id = 1 \n",
    "        players_list = []\n",
    "        info_id = num_of_staff\n",
    "        for i in range(1, 101):\n",
    "                \n",
    "            active = True\n",
    "            info_id += 1\n",
    "            \n",
    "            players_list.append((team_id, active, info_id))\n",
    "            \n",
    "            if i%5 == 0:\n",
    "                team_id += 1\n",
    "                \n",
    "        qr = ('INSERT INTO team9.Players ' \n",
    "                      '(TeamID, Active, InfoID) ' \n",
    "                      'VALUES (%s, %s, %s)')\n",
    "                \n",
    "        cursor.executemany(qr, players_list)\n",
    "        \n",
    "    def player_tuition_fill():\n",
    "        \n",
    "        qr = \"\"\"SELECT COUNT(*) FROM team9.Players\"\"\"\n",
    "        cursor.execute(qr)\n",
    "        k = cursor.fetchone()[0] # liczba graczy - na później \n",
    "        \n",
    "        \n",
    "        tuition_list = []    \n",
    "        for i in range(1,k+1):\n",
    "            \n",
    "            qr = ('SELECT JoinDate, DepartDate FROM team9.Info WHERE InfoID = %s ')\n",
    "            cursor.execute(qr, [i + num_of_staff])\n",
    "            join_date, depart_date = cursor.fetchone()\n",
    "            \n",
    "            flag = 0 \n",
    "            time_change = relativedelta(months = 1)\n",
    "            #month_later = join_date + time_change\n",
    "            date = dt.date(join_date.year, join_date.month, 10) # pierwsza wpłata DO ZMIANY, JEŚLI ZMIENIMY PRZYCHODZENIE I ODCHODZENIE PLAYERS\n",
    "            amount = 50\n",
    "            while flag == 0:\n",
    "                \n",
    "                tuition_list.append((date, amount, i)) # pierwsza wypłata normalna\n",
    "                \n",
    "                if date >= depart_date:\n",
    "                    flag += 1\n",
    "                date += time_change\n",
    "                if date >= dt.date.today():\n",
    "                    flag += 1\n",
    "                    \n",
    "        qr = ('INSERT INTO team9.PlayerTuition ' \n",
    "                  '(Date, Amount, PlayerID) ' \n",
    "                  'VALUES (%s, %s, %s)')\n",
    "        \n",
    "        tuition_list.sort()\n",
    "        cursor.executemany(qr, tuition_list)\n",
    "        \n",
    "        \n",
    "    def matches_fill():\n",
    "        \n",
    "        # 3 sezony, bo 2 w tył i 1 w przód\n",
    "        seasons = {0:\"2020/2021\", 1:\"2021/2022\", 2:\"2022/2023\"}\n",
    "        \n",
    "        matches = []\n",
    "        for n in range(3): # mamy 3 sezony \n",
    "            \n",
    "            # plan meczy \n",
    "            female_juniors = match_schedule([1,2,3,4,5])\n",
    "            female_seniors = match_schedule([6,7,8,9,10])\n",
    "            male_juniors = match_schedule([11,12,13,14,15])\n",
    "            male_seniors = match_schedule([16,17,18,19,20])\n",
    "            \n",
    "            season_start = dt.datetime(2020 + n, 11, 7 - n, 12, 0)\n",
    "            season_end = dt.datetime(2021 + n, 3, 21 - n, 16, 0)\n",
    "            middle = season_start + (season_end - season_start) / 2\n",
    "            \n",
    "            date = season_start\n",
    "            \n",
    "            schedules = {1:female_juniors, 2:female_seniors, 3:male_juniors, 0:male_seniors}\n",
    "            \n",
    "            k = 0\n",
    "            for i in range(1, 81):\n",
    "            \n",
    "                \n",
    "                if n != 2: # tylko dla przeszłych meczy\n",
    "                    spectators = num_of_spectators(date, middle)\n",
    "                    score_a, score_b = score()\n",
    "                else:\n",
    "                    spectators = None\n",
    "                    score_a, score_b = None, None\n",
    "                    \n",
    "                season = seasons[n]\n",
    "                team_a, team_b = schedules[i%4][k]\n",
    "                \n",
    "                matches.append((spectators, season, date, score_a, score_b, team_a, team_b))\n",
    "                \n",
    "                if i%4 == 0:\n",
    "                    date += dt.timedelta(hours = 120)\n",
    "                elif i%2 == 0:\n",
    "                    date += dt.timedelta(hours = 20)\n",
    "                else:\n",
    "                    date += dt.timedelta(hours = 4)\n",
    "                    \n",
    "                    \n",
    "                if i%4 == 0:\n",
    "                    k += 1\n",
    "                    \n",
    "                \n",
    "        \n",
    "                \n",
    "        qr = ('INSERT INTO team9.Matches ' \n",
    "                  '(Spectators, Season, Date, ScoreA, ScoreB, TeamA, TeamB) ' \n",
    "                  'VALUES (%s, %s, %s, %s, %s, %s, %s)')\n",
    "        \n",
    "        cursor.executemany(qr, matches)\n",
    "                    \n",
    "            \n",
    "    info_fill_staff()\n",
    "    staff_fill()\n",
    "    salaries_fill()\n",
    "    info_fill_players()\n",
    "    teams_fill()\n",
    "    players_fill()\n",
    "    player_tuition_fill()\n",
    "    matches_fill()"
   ]
  },
  {
   "cell_type": "code",
   "execution_count": 259,
   "id": "8088a801",
   "metadata": {},
   "outputs": [],
   "source": [
    "my_connection = mysql.connect(\n",
    "host=\"giniewicz.it\",\n",
    "user=\"team9\",\n",
    "password=\"te@mqP@ss\"\n",
    ")"
   ]
  },
  {
   "cell_type": "code",
   "execution_count": 260,
   "id": "6c113a72",
   "metadata": {},
   "outputs": [],
   "source": [
    "cursor = my_connection.cursor()"
   ]
  },
  {
   "cell_type": "code",
   "execution_count": 261,
   "id": "d5df2f85",
   "metadata": {},
   "outputs": [],
   "source": [
    "fill(cursor)"
   ]
  },
  {
   "cell_type": "code",
   "execution_count": 262,
   "id": "0d89f96c",
   "metadata": {},
   "outputs": [],
   "source": [
    "my_connection.commit()\n",
    "cursor.close()\n",
    "my_connection.close()"
   ]
  },
  {
   "cell_type": "code",
   "execution_count": 102,
   "id": "26547cd3",
   "metadata": {},
   "outputs": [],
   "source": [
    "team_names = [\"ŻABKI\", \"PSZCZÓŁKI\", \"KANGURY\", \"SŁONIKI\", \"ŁOSOSIE\", \"TYGRYSY\", \"PANTERY\", \"WILKI\", \n",
    "                     \"SZCZUPAKI\", \"KUNY\", \"MOTYLKI\", \"DELFINY\", \"KOZY\", \"IGUANY\", \"SARENKI\", \"KRÓWKI\",\n",
    "                     \"KURY\", \"OWIECZKI\", \"RYSIE\", \"ZEBRY\"]"
   ]
  },
  {
   "cell_type": "code",
   "execution_count": 53,
   "id": "45e7ae65",
   "metadata": {},
   "outputs": [
    {
     "data": {
      "text/plain": [
       "19"
      ]
     },
     "execution_count": 53,
     "metadata": {},
     "output_type": "execute_result"
    }
   ],
   "source": [
    "a = team_names.pop()\n",
    "len(team_names)"
   ]
  },
  {
   "cell_type": "code",
   "execution_count": 81,
   "id": "ffee77c7",
   "metadata": {},
   "outputs": [
    {
     "data": {
      "text/plain": [
       "datetime.date(2022, 6, 14)"
      ]
     },
     "execution_count": 81,
     "metadata": {},
     "output_type": "execute_result"
    }
   ],
   "source": [
    "dt.date.today()"
   ]
  },
  {
   "cell_type": "code",
   "execution_count": 43,
   "id": "b2b6d602",
   "metadata": {},
   "outputs": [],
   "source": [
    "i = 5\n",
    "qr = ('SELECT JoinDate, DepartDate FROM team9.Info WHERE InfoID = %s ')\n",
    "cursor.execute(qr, [i])"
   ]
  },
  {
   "cell_type": "code",
   "execution_count": 44,
   "id": "d069857f",
   "metadata": {},
   "outputs": [
    {
     "data": {
      "text/plain": [
       "(datetime.date(2021, 1, 1), datetime.date(9999, 1, 1))"
      ]
     },
     "execution_count": 44,
     "metadata": {},
     "output_type": "execute_result"
    }
   ],
   "source": [
    "cursor.fetchone()"
   ]
  },
  {
   "cell_type": "code",
   "execution_count": 37,
   "id": "0c6e5c9c",
   "metadata": {},
   "outputs": [],
   "source": [
    "qr = \"\"\"SELECT COUNT(*) FROM team9.Staff\"\"\"\n",
    "cursor.execute(qr)"
   ]
  },
  {
   "cell_type": "code",
   "execution_count": 38,
   "id": "d127a249",
   "metadata": {},
   "outputs": [
    {
     "data": {
      "text/plain": [
       "16"
      ]
     },
     "execution_count": 38,
     "metadata": {},
     "output_type": "execute_result"
    }
   ],
   "source": [
    "cursor.fetchone()[0]"
   ]
  },
  {
   "cell_type": "code",
   "execution_count": null,
   "id": "1193f64f",
   "metadata": {},
   "outputs": [],
   "source": [
    "def fill2(cursor):\n",
    "    \n",
    "    staff_depart_dates = []\n",
    "    def info_fill_staff():\n",
    "        \n",
    "        for i in range(15): # mamy 15 pracownikow\n",
    "\n",
    "            gender = generate_gender()\n",
    "            if gender == \"FEMALE\":\n",
    "                file1 = \"IMIONA_ZENSKIE.csv\"\n",
    "                file2 = \"NAZWISKA_ZENSKIE.csv\"\n",
    "            elif gender == \"MALE\":\n",
    "                file1 = \"IMIONA_MESKIE.csv\"\n",
    "                file2 = \"NAZWISKA_MESKIE.csv\"\n",
    "            else:\n",
    "                x = random.random()\n",
    "                if 0 < x < 0.5:\n",
    "                    file1 = \"IMIONA_ZENSKIE.csv\"\n",
    "                    file2 = \"NAZWISKA_ZENSKIE.csv\"\n",
    "                else:\n",
    "                    file1 = \"IMIONA_MESKIE.csv\"\n",
    "                    file2 = \"NAZWISKA_MESKIE.csv\"\n",
    "\n",
    "\n",
    "            first_name = generate_name(file1)\n",
    "            last_name = generate_surname(file2)\n",
    "            address = generate_address(\"ADRESY.csv\")\n",
    "            join_date = dt.date(2021, 1, 1)\n",
    "            depart_date = generate_depart_date(\"01/01/2021\", \"01/06/2022\")\n",
    "            birth_date = random_date(\"01/01/1958\", \"01/01/2004\")\n",
    "            email = generate_email(first_name, last_name)\n",
    "            phone = generate_phone()\n",
    "\n",
    "   \n",
    "            j = 0\n",
    "            while depart_date != dt.datetime(9999, 1, 1, 0, 0):\n",
    "                staff_depart_dates.append((i+j, depart_date))\n",
    "\n",
    "                gender = generate_gender()\n",
    "                if gender == \"FEMALE\":\n",
    "                    file1 = \"IMIONA_ZENSKIE.csv\"\n",
    "                    file2 = \"NAZWISKA_ZENSKIE.csv\"\n",
    "                elif gender == \"MALE\":\n",
    "                    file1 = \"IMIONA_MESKIE.csv\"\n",
    "                    file2 = \"NAZWISKA_MESKIE.csv\"\n",
    "                else:\n",
    "                    x = random.random()\n",
    "                    if 0 < x < 0.5:\n",
    "                        file1 = \"IMIONA_ZENSKIE.csv\"\n",
    "                        file2 = \"NAZWISKA_ZENSKIE.csv\"\n",
    "                    else:\n",
    "                        file1 = \"IMIONA_MESKIE.csv\"\n",
    "                        file2 = \"NAZWISKA_MESKIE.csv\"\n",
    "\n",
    "                first_name = generate_name(file1)\n",
    "                last_name = generate_surname(file2)\n",
    "                address = generate_address(\"ADRESY.csv\")\n",
    "                join_date = depart_date\n",
    "                depart_date = generate_depart_date(depart_date, \"01/06/2022\")\n",
    "                birth_date = random_date(\"01/01/1958\", \"01/01/2004\")\n",
    "                email = generate_email(first_name, last_name)\n",
    "                phone = generate_phone()\n",
    "                \n",
    "                qr = ('INSERT INTO team9.Info ' \n",
    "                  '(InfoID, FirstName, LastName, Address, JoinDate, DepartDate, BirthDate, Email, Phone, Gender) ' \n",
    "                  'VALUES (%s, %s, %s, %s, %s, %s, %s, %s, %s, %s)')\n",
    "                cursor.execute(qr, (i+j, first_name, last_name, address, join_date, depart_date, birth_date, email, phone, gender))\n",
    "            \n",
    "                j = j+1\n",
    "                    \n",
    "\n",
    "            qr = ('INSERT INTO team9.Info ' \n",
    "                  '(InfoID, FirstName, LastName, Address, JoinDate, DepartDate, BirthDate, Email, Phone, Gender) ' \n",
    "                  'VALUES (%s, %s, %s, %s, %s, %s, %s, %s, %s, %s)')\n",
    "            cursor.execute(qr, (i+1, first_name, last_name, address, join_date, depart_date, birth_date, email, phone, gender))\n",
    "            \n",
    "        "
   ]
  },
  {
   "cell_type": "code",
   "execution_count": 21,
   "id": "ea7706dd",
   "metadata": {},
   "outputs": [
    {
     "ename": "DatabaseError",
     "evalue": "1205 (HY000): Lock wait timeout exceeded; try restarting transaction",
     "output_type": "error",
     "traceback": [
      "\u001b[0;31m---------------------------------------------------------------------------\u001b[0m",
      "\u001b[0;31mDatabaseError\u001b[0m                             Traceback (most recent call last)",
      "\u001b[0;32m/var/folders/gx/5fq598cs4qb1zn8jlnpd4hym0000gn/T/ipykernel_54844/3272158768.py\u001b[0m in \u001b[0;36m<module>\u001b[0;34m\u001b[0m\n\u001b[0;32m----> 1\u001b[0;31m \u001b[0mfill\u001b[0m\u001b[0;34m(\u001b[0m\u001b[0mcursor\u001b[0m\u001b[0;34m)\u001b[0m\u001b[0;34m\u001b[0m\u001b[0;34m\u001b[0m\u001b[0m\n\u001b[0m",
      "\u001b[0;32m/var/folders/gx/5fq598cs4qb1zn8jlnpd4hym0000gn/T/ipykernel_54844/3881003307.py\u001b[0m in \u001b[0;36mfill\u001b[0;34m(cursor)\u001b[0m\n\u001b[1;32m    123\u001b[0m \u001b[0;34m\u001b[0m\u001b[0m\n\u001b[1;32m    124\u001b[0m \u001b[0;34m\u001b[0m\u001b[0m\n\u001b[0;32m--> 125\u001b[0;31m     \u001b[0minfo_fill_staff\u001b[0m\u001b[0;34m(\u001b[0m\u001b[0;34m)\u001b[0m\u001b[0;34m\u001b[0m\u001b[0;34m\u001b[0m\u001b[0m\n\u001b[0m\u001b[1;32m    126\u001b[0m     \u001b[0mstaff_fill\u001b[0m\u001b[0;34m(\u001b[0m\u001b[0;34m)\u001b[0m\u001b[0;34m\u001b[0m\u001b[0;34m\u001b[0m\u001b[0m\n\u001b[1;32m    127\u001b[0m \u001b[0;34m\u001b[0m\u001b[0m\n",
      "\u001b[0;32m/var/folders/gx/5fq598cs4qb1zn8jlnpd4hym0000gn/T/ipykernel_54844/3881003307.py\u001b[0m in \u001b[0;36minfo_fill_staff\u001b[0;34m()\u001b[0m\n\u001b[1;32m     41\u001b[0m                   \u001b[0;34m'(InfoID, FirstName, LastName, Address, JoinDate, DepartDate, BirthDate, Email, Phone, Gender) '\u001b[0m\u001b[0;34m\u001b[0m\u001b[0;34m\u001b[0m\u001b[0m\n\u001b[1;32m     42\u001b[0m                   'VALUES (%s, %s, %s, %s, %s, %s, %s, %s, %s, %s)')\n\u001b[0;32m---> 43\u001b[0;31m             \u001b[0mcursor\u001b[0m\u001b[0;34m.\u001b[0m\u001b[0mexecute\u001b[0m\u001b[0;34m(\u001b[0m\u001b[0mqr\u001b[0m\u001b[0;34m,\u001b[0m \u001b[0;34m(\u001b[0m\u001b[0mi\u001b[0m\u001b[0;34m,\u001b[0m \u001b[0mfirst_name\u001b[0m\u001b[0;34m,\u001b[0m \u001b[0mlast_name\u001b[0m\u001b[0;34m,\u001b[0m \u001b[0maddress\u001b[0m\u001b[0;34m,\u001b[0m \u001b[0mjoin_date\u001b[0m\u001b[0;34m,\u001b[0m \u001b[0mdepart_date\u001b[0m\u001b[0;34m,\u001b[0m \u001b[0mbirth_date\u001b[0m\u001b[0;34m,\u001b[0m \u001b[0memail\u001b[0m\u001b[0;34m,\u001b[0m \u001b[0mphone\u001b[0m\u001b[0;34m,\u001b[0m \u001b[0mgender\u001b[0m\u001b[0;34m)\u001b[0m\u001b[0;34m)\u001b[0m\u001b[0;34m\u001b[0m\u001b[0;34m\u001b[0m\u001b[0m\n\u001b[0m\u001b[1;32m     44\u001b[0m \u001b[0;34m\u001b[0m\u001b[0m\n\u001b[1;32m     45\u001b[0m \u001b[0;34m\u001b[0m\u001b[0m\n",
      "\u001b[0;32m/opt/anaconda3/lib/python3.9/site-packages/mysql/connector/cursor.py\u001b[0m in \u001b[0;36mexecute\u001b[0;34m(self, operation, params, multi)\u001b[0m\n\u001b[1;32m    570\u001b[0m \u001b[0;34m\u001b[0m\u001b[0m\n\u001b[1;32m    571\u001b[0m         \u001b[0;32mtry\u001b[0m\u001b[0;34m:\u001b[0m\u001b[0;34m\u001b[0m\u001b[0;34m\u001b[0m\u001b[0m\n\u001b[0;32m--> 572\u001b[0;31m             \u001b[0mself\u001b[0m\u001b[0;34m.\u001b[0m\u001b[0m_handle_result\u001b[0m\u001b[0;34m(\u001b[0m\u001b[0mself\u001b[0m\u001b[0;34m.\u001b[0m\u001b[0m_connection\u001b[0m\u001b[0;34m.\u001b[0m\u001b[0mcmd_query\u001b[0m\u001b[0;34m(\u001b[0m\u001b[0mstmt\u001b[0m\u001b[0;34m)\u001b[0m\u001b[0;34m)\u001b[0m\u001b[0;34m\u001b[0m\u001b[0;34m\u001b[0m\u001b[0m\n\u001b[0m\u001b[1;32m    573\u001b[0m         \u001b[0;32mexcept\u001b[0m \u001b[0merrors\u001b[0m\u001b[0;34m.\u001b[0m\u001b[0mInterfaceError\u001b[0m\u001b[0;34m:\u001b[0m\u001b[0;34m\u001b[0m\u001b[0;34m\u001b[0m\u001b[0m\n\u001b[1;32m    574\u001b[0m             \u001b[0;32mif\u001b[0m \u001b[0mself\u001b[0m\u001b[0;34m.\u001b[0m\u001b[0m_connection\u001b[0m\u001b[0;34m.\u001b[0m\u001b[0m_have_next_result\u001b[0m\u001b[0;34m:\u001b[0m  \u001b[0;31m# pylint: disable=W0212\u001b[0m\u001b[0;34m\u001b[0m\u001b[0;34m\u001b[0m\u001b[0m\n",
      "\u001b[0;32m/opt/anaconda3/lib/python3.9/site-packages/mysql/connector/connection.py\u001b[0m in \u001b[0;36mcmd_query\u001b[0;34m(self, query, raw, buffered, raw_as_string)\u001b[0m\n\u001b[1;32m    920\u001b[0m         \u001b[0mquery\u001b[0m \u001b[0;34m=\u001b[0m \u001b[0mbytes\u001b[0m\u001b[0;34m(\u001b[0m\u001b[0mpacket\u001b[0m\u001b[0;34m)\u001b[0m\u001b[0;34m\u001b[0m\u001b[0;34m\u001b[0m\u001b[0m\n\u001b[1;32m    921\u001b[0m         \u001b[0;32mtry\u001b[0m\u001b[0;34m:\u001b[0m\u001b[0;34m\u001b[0m\u001b[0;34m\u001b[0m\u001b[0m\n\u001b[0;32m--> 922\u001b[0;31m             \u001b[0mresult\u001b[0m \u001b[0;34m=\u001b[0m \u001b[0mself\u001b[0m\u001b[0;34m.\u001b[0m\u001b[0m_handle_result\u001b[0m\u001b[0;34m(\u001b[0m\u001b[0mself\u001b[0m\u001b[0;34m.\u001b[0m\u001b[0m_send_cmd\u001b[0m\u001b[0;34m(\u001b[0m\u001b[0mServerCmd\u001b[0m\u001b[0;34m.\u001b[0m\u001b[0mQUERY\u001b[0m\u001b[0;34m,\u001b[0m \u001b[0mquery\u001b[0m\u001b[0;34m)\u001b[0m\u001b[0;34m)\u001b[0m\u001b[0;34m\u001b[0m\u001b[0;34m\u001b[0m\u001b[0m\n\u001b[0m\u001b[1;32m    923\u001b[0m         \u001b[0;32mexcept\u001b[0m \u001b[0merrors\u001b[0m\u001b[0;34m.\u001b[0m\u001b[0mProgrammingError\u001b[0m \u001b[0;32mas\u001b[0m \u001b[0merr\u001b[0m\u001b[0;34m:\u001b[0m\u001b[0;34m\u001b[0m\u001b[0;34m\u001b[0m\u001b[0m\n\u001b[1;32m    924\u001b[0m             \u001b[0;32mif\u001b[0m \u001b[0merr\u001b[0m\u001b[0;34m.\u001b[0m\u001b[0merrno\u001b[0m \u001b[0;34m==\u001b[0m \u001b[0;36m3948\u001b[0m \u001b[0;32mand\u001b[0m\u001b[0;31m \u001b[0m\u001b[0;31m\\\u001b[0m\u001b[0;34m\u001b[0m\u001b[0;34m\u001b[0m\u001b[0m\n",
      "\u001b[0;32m/opt/anaconda3/lib/python3.9/site-packages/mysql/connector/connection.py\u001b[0m in \u001b[0;36m_handle_result\u001b[0;34m(self, packet)\u001b[0m\n\u001b[1;32m    730\u001b[0m             \u001b[0;32mreturn\u001b[0m \u001b[0mself\u001b[0m\u001b[0;34m.\u001b[0m\u001b[0m_handle_eof\u001b[0m\u001b[0;34m(\u001b[0m\u001b[0mpacket\u001b[0m\u001b[0;34m)\u001b[0m\u001b[0;34m\u001b[0m\u001b[0;34m\u001b[0m\u001b[0m\n\u001b[1;32m    731\u001b[0m         \u001b[0;32melif\u001b[0m \u001b[0mpacket\u001b[0m\u001b[0;34m[\u001b[0m\u001b[0;36m4\u001b[0m\u001b[0;34m]\u001b[0m \u001b[0;34m==\u001b[0m \u001b[0;36m255\u001b[0m\u001b[0;34m:\u001b[0m\u001b[0;34m\u001b[0m\u001b[0;34m\u001b[0m\u001b[0m\n\u001b[0;32m--> 732\u001b[0;31m             \u001b[0;32mraise\u001b[0m \u001b[0merrors\u001b[0m\u001b[0;34m.\u001b[0m\u001b[0mget_exception\u001b[0m\u001b[0;34m(\u001b[0m\u001b[0mpacket\u001b[0m\u001b[0;34m)\u001b[0m\u001b[0;34m\u001b[0m\u001b[0;34m\u001b[0m\u001b[0m\n\u001b[0m\u001b[1;32m    733\u001b[0m \u001b[0;34m\u001b[0m\u001b[0m\n\u001b[1;32m    734\u001b[0m         \u001b[0;31m# We have a text result set\u001b[0m\u001b[0;34m\u001b[0m\u001b[0;34m\u001b[0m\u001b[0m\n",
      "\u001b[0;31mDatabaseError\u001b[0m: 1205 (HY000): Lock wait timeout exceeded; try restarting transaction"
     ]
    }
   ],
   "source": [
    "fill(cursor)"
   ]
  },
  {
   "cell_type": "code",
   "execution_count": null,
   "id": "259124fe",
   "metadata": {},
   "outputs": [],
   "source": [
    "def fill_items(cursor):\n",
    "    #wstępna tabela items i itemcosts. nie dawałem tutaj ciuchów, bo wsm nie pamietam na czym stanelo\n",
    "    \n",
    "    qr_itemCosts = ('INSERT INTO team9.ItemCosts ' \n",
    "          '(Date, Amount) ' \n",
    "          'VALUES (%s, %s)')\n",
    "    \n",
    "    qr_item = ('INSERT INTO team9.Items ' \n",
    "          '(Size, PaymentID, Type, Broken) ' \n",
    "          'VALUES (%s, %s, %s, %s)')\n",
    "    \n",
    "    #liczba poszczególnych itemów i ich cena. Odpowiednio: kamienie, szczotki, buty i ta maszyna do lodu\n",
    "    items_price = {35:random.randint(5000,7000), 30:random.randint(200,400), 20:random.randint(500,700), 1:random.randint(150000,200000)}\n",
    "    \n",
    "    #dodajemy ceny. Wszystko kupujemy w pierwszy dzien dzialalnosci klubu\n",
    "    for key, val in items_price.items():\n",
    "        for i in range(key):\n",
    "            cursor.execute(qr_itemCosts, (dt.date(2021, 1, 1), val))\n",
    "    \n",
    "    #dodajemy itemy i odpowiedni klucz do ceny. Sprzet moze byc zepsuty z prawdop. 5%\n",
    "    for i in range(35):\n",
    "        cursor.execute(qr_item, ('-', i+1, 'KAMIEN', np.random.binomial(1, 0.05)))\n",
    "    for i in range(30):\n",
    "        cursor.execute(qr_item, ('-', i+36, 'SZCZOTKA', np.random.binomial(1, 0.05)))\n",
    "    for i in range(20):\n",
    "        #losujemy numer buta\n",
    "        cursor.execute(qr_item, (str(random.randint(33,45)), i+66, 'BUTY', np.random.binomial(1, 0.05)))\n",
    "        \n",
    "    #maszyna za ponad 150 koła nie może się zepsuć xd\n",
    "    cursor.execute(qr_item, ('-', 86, 'ROLBA', 0))"
   ]
  },
  {
   "cell_type": "code",
   "execution_count": null,
   "id": "8f3d17db",
   "metadata": {},
   "outputs": [],
   "source": []
  },
  {
   "cell_type": "code",
   "execution_count": null,
   "id": "3337e2bd",
   "metadata": {},
   "outputs": [],
   "source": []
  }
 ],
 "metadata": {
  "kernelspec": {
   "display_name": "Python 3 (ipykernel)",
   "language": "python",
   "name": "python3"
  },
  "language_info": {
   "codemirror_mode": {
    "name": "ipython",
    "version": 3
   },
   "file_extension": ".py",
   "mimetype": "text/x-python",
   "name": "python",
   "nbconvert_exporter": "python",
   "pygments_lexer": "ipython3",
   "version": "3.9.7"
  }
 },
 "nbformat": 4,
 "nbformat_minor": 5
}
