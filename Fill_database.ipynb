{
 "cells": [
  {
   "cell_type": "code",
   "execution_count": 1,
   "id": "63834623",
   "metadata": {},
   "outputs": [],
   "source": [
    "import pandas as pd\n",
    "import random\n",
    "import time\n",
    "from datetime import date\n",
    "import numpy as np\n",
    "\n",
    "import mysql.connector as mysql\n",
    "import datetime as dt\n",
    "import matplotlib.pyplot as plt\n",
    "from pandasql import sqldf"
   ]
  },
  {
   "cell_type": "code",
   "execution_count": 58,
   "id": "e3c49583",
   "metadata": {},
   "outputs": [],
   "source": [
    "my_connection = mysql.connect(\n",
    "host=\"giniewicz.it\",\n",
    "user=\"student\",\n",
    "password=\"57u>3n7\"\n",
    ")"
   ]
  },
  {
   "cell_type": "code",
   "execution_count": 68,
   "id": "8088a801",
   "metadata": {},
   "outputs": [],
   "source": [
    "my_connection = mysql.connect(\n",
    "host=\"giniewicz.it\",\n",
    "user=\"team9\",\n",
    "password=\"te@mqP@ss\"\n",
    ")"
   ]
  },
  {
   "cell_type": "code",
   "execution_count": 69,
   "id": "96c12945",
   "metadata": {},
   "outputs": [],
   "source": [
    "cursor = my_connection.cursor()"
   ]
  },
  {
   "cell_type": "code",
   "execution_count": 12,
   "id": "d794ce82",
   "metadata": {},
   "outputs": [],
   "source": [
    "def generate_name(file):\n",
    "    \"\"\"\n",
    "    Funkcja zwraca wylosowane imię ze 100 najbardziej znanych w Polsce imion. \n",
    "    \"\"\"\n",
    "    \n",
    "    df = pd.read_csv(file)[1:100]\n",
    "    n = df[\"IMIĘ_PIERWSZE\"].sample(1)\n",
    "    \n",
    "    return n.to_string(index=False)"
   ]
  },
  {
   "cell_type": "code",
   "execution_count": 13,
   "id": "19c9f7d4",
   "metadata": {},
   "outputs": [
    {
     "data": {
      "text/plain": [
       "'ANITA'"
      ]
     },
     "execution_count": 13,
     "metadata": {},
     "output_type": "execute_result"
    }
   ],
   "source": [
    "generate_name(\"IMIONA_ZENSKIE.csv\")"
   ]
  },
  {
   "cell_type": "code",
   "execution_count": 14,
   "id": "66f5e2d6",
   "metadata": {},
   "outputs": [
    {
     "data": {
      "text/plain": [
       "'VOLODYMYR'"
      ]
     },
     "execution_count": 14,
     "metadata": {},
     "output_type": "execute_result"
    }
   ],
   "source": [
    "generate_name(\"IMIONA_MESKIE.csv\")"
   ]
  },
  {
   "cell_type": "code",
   "execution_count": 15,
   "id": "48680a02",
   "metadata": {},
   "outputs": [],
   "source": [
    "def generate_surname(file):\n",
    "    \"\"\"\n",
    "    Funkcja zwraca wylosowane nazwisko ze 100 najbardziej znanych w Polsce nazwisk. \n",
    "    \"\"\"\n",
    "    \n",
    "    df = pd.read_csv(file)[1:100]\n",
    "    n = df[\"Nazwisko aktualne\"].sample(1)\n",
    "    \n",
    "    return n.to_string(index=False)"
   ]
  },
  {
   "cell_type": "code",
   "execution_count": 7,
   "id": "3220d943",
   "metadata": {},
   "outputs": [
    {
     "data": {
      "text/plain": [
       "'SZCZEPANIAK'"
      ]
     },
     "execution_count": 7,
     "metadata": {},
     "output_type": "execute_result"
    }
   ],
   "source": [
    "generate_surname(\"NAZWISKA_ZENSKIE.csv\")"
   ]
  },
  {
   "cell_type": "code",
   "execution_count": 8,
   "id": "ced3f887",
   "metadata": {},
   "outputs": [
    {
     "data": {
      "text/plain": [
       "'PIOTROWSKI'"
      ]
     },
     "execution_count": 8,
     "metadata": {},
     "output_type": "execute_result"
    }
   ],
   "source": [
    "generate_surname(\"NAZWISKA_MESKIE.csv\")"
   ]
  },
  {
   "cell_type": "code",
   "execution_count": 16,
   "id": "1cf7d948",
   "metadata": {},
   "outputs": [],
   "source": [
    "def str_time_prop(start, end, time_format, prop):\n",
    "    \"\"\"\n",
    "    Zwraca datę pomiędzy dwiema ustalonymi (w odstępie takim jak argument (0,1))\n",
    "    \"\"\"\n",
    "\n",
    "    stime = time.mktime(time.strptime(start, time_format))\n",
    "    etime = time.mktime(time.strptime(end, time_format))\n",
    "\n",
    "    ptime = stime + prop * (etime - stime)\n",
    "\n",
    "    return time.strftime(time_format, time.localtime(ptime))"
   ]
  },
  {
   "cell_type": "code",
   "execution_count": 3,
   "id": "ff86f2e8",
   "metadata": {},
   "outputs": [
    {
     "data": {
      "text/plain": [
       "'01/01/1942'"
      ]
     },
     "execution_count": 3,
     "metadata": {},
     "output_type": "execute_result"
    }
   ],
   "source": [
    "str_time_prop(\"01/01/1922\", \"01/01/1962\", '%d/%m/%Y', 0.5)"
   ]
  },
  {
   "cell_type": "code",
   "execution_count": 17,
   "id": "fe6712a7",
   "metadata": {},
   "outputs": [],
   "source": [
    "def random_date(start, end):\n",
    "    \"\"\"\n",
    "    Losuje odstęp i wywołuje funkcje zwracającą date\n",
    "    \n",
    "    W ogólności funkcja za pomocą funkcji str_time_prop zwraca losową datę pomiędzy dwiema zadanymi \n",
    "    w argumentach danymi. Będzie do losowania JoinDate\n",
    "    \"\"\"\n",
    "    prop=random.random()\n",
    "    start = start.strftime('%d/%m/%Y')\n",
    "    end = end.strftime('%d/%m/%Y')\n",
    "    d = str_time_prop(start, end, '%d/%m/%Y', prop)\n",
    "    return dt.datetime.strptime(d, '%d/%m/%Y')"
   ]
  },
  {
   "cell_type": "code",
   "execution_count": 18,
   "id": "3e08e8d2",
   "metadata": {},
   "outputs": [
    {
     "data": {
      "text/plain": [
       "datetime.datetime(1989, 6, 9, 0, 0)"
      ]
     },
     "execution_count": 18,
     "metadata": {},
     "output_type": "execute_result"
    }
   ],
   "source": [
    "random_date(dt.datetime(1979, 2, 18, 0, 0), dt.datetime(1992, 2, 18, 0, 0))"
   ]
  },
  {
   "cell_type": "code",
   "execution_count": 19,
   "id": "a6eba8ed",
   "metadata": {},
   "outputs": [],
   "source": [
    "def generate_email(name, surname):\n",
    "    \n",
    "    \"\"\"\n",
    "    Funkcja zwraca email osoby \n",
    "    \"\"\"\n",
    "    \n",
    "    number = int(random.random()*10000)\n",
    "    mail = name.lower() + '.' + surname.lower() + str(number) + '@giniewicz.it.com'\n",
    "    \n",
    "    return mail"
   ]
  },
  {
   "cell_type": "code",
   "execution_count": 20,
   "id": "a86e3820",
   "metadata": {},
   "outputs": [
    {
     "ename": "NameError",
     "evalue": "name 'email' is not defined",
     "output_type": "error",
     "traceback": [
      "\u001b[0;31m---------------------------------------------------------------------------\u001b[0m",
      "\u001b[0;31mNameError\u001b[0m                                 Traceback (most recent call last)",
      "\u001b[0;32m/var/folders/gx/5fq598cs4qb1zn8jlnpd4hym0000gn/T/ipykernel_82258/107105771.py\u001b[0m in \u001b[0;36m<module>\u001b[0;34m\u001b[0m\n\u001b[1;32m      1\u001b[0m \u001b[0mname\u001b[0m \u001b[0;34m=\u001b[0m \u001b[0mgenerate_name\u001b[0m\u001b[0;34m(\u001b[0m\u001b[0;34m\"IMIONA_ZENSKIE.csv\"\u001b[0m\u001b[0;34m)\u001b[0m\u001b[0;34m\u001b[0m\u001b[0;34m\u001b[0m\u001b[0m\n\u001b[1;32m      2\u001b[0m \u001b[0msurname\u001b[0m \u001b[0;34m=\u001b[0m \u001b[0mgenerate_surname\u001b[0m\u001b[0;34m(\u001b[0m\u001b[0;34m\"NAZWISKA_ZENSKIE.csv\"\u001b[0m\u001b[0;34m)\u001b[0m\u001b[0;34m\u001b[0m\u001b[0;34m\u001b[0m\u001b[0m\n\u001b[0;32m----> 3\u001b[0;31m \u001b[0memail\u001b[0m\u001b[0;34m(\u001b[0m\u001b[0mname\u001b[0m\u001b[0;34m,\u001b[0m \u001b[0msurname\u001b[0m\u001b[0;34m)\u001b[0m\u001b[0;34m\u001b[0m\u001b[0;34m\u001b[0m\u001b[0m\n\u001b[0m",
      "\u001b[0;31mNameError\u001b[0m: name 'email' is not defined"
     ]
    }
   ],
   "source": [
    "name = generate_name(\"IMIONA_ZENSKIE.csv\")\n",
    "surname = generate_surname(\"NAZWISKA_ZENSKIE.csv\")\n",
    "email(name, surname)"
   ]
  },
  {
   "cell_type": "code",
   "execution_count": 21,
   "id": "e1673f0a",
   "metadata": {},
   "outputs": [],
   "source": [
    "def generate_phone():\n",
    "    \n",
    "    \"\"\"\n",
    "    Funkcja zwraca numer osoby \n",
    "    \"\"\"\n",
    "    \n",
    "    phone = random.randint(500000000, 900000000)\n",
    "    return phone"
   ]
  },
  {
   "cell_type": "code",
   "execution_count": 15,
   "id": "6d71cbea",
   "metadata": {},
   "outputs": [
    {
     "data": {
      "text/plain": [
       "522679007"
      ]
     },
     "execution_count": 15,
     "metadata": {},
     "output_type": "execute_result"
    }
   ],
   "source": [
    "generate_phone()"
   ]
  },
  {
   "cell_type": "code",
   "execution_count": 16,
   "id": "e7a027e2",
   "metadata": {},
   "outputs": [],
   "source": [
    "df = pd.read_csv(\"ADRESY_beta.csv\", sep = \";\")\n",
    "df = df[[\"MIEJCOWOSC\", \"NAZWA_ULICY\", \"NUMER\"]]"
   ]
  },
  {
   "cell_type": "code",
   "execution_count": 17,
   "id": "7c41a198",
   "metadata": {},
   "outputs": [],
   "source": [
    "df.to_csv('ADRESY.csv', index = False)"
   ]
  },
  {
   "cell_type": "code",
   "execution_count": 22,
   "id": "4af18ba5",
   "metadata": {},
   "outputs": [],
   "source": [
    "def generate_address(file): \n",
    "    \n",
    "    df = pd.read_csv(file)\n",
    "    row = df.sample(1)\n",
    "    \n",
    "    city = row[\"MIEJCOWOSC\"].to_string(index=False)\n",
    "    street = row[\"NAZWA_ULICY\"].to_string(index=False)\n",
    "    number = row[\"NUMER\"].to_string(index=False)\n",
    "    \n",
    "    address = street + \" \" + number + \" \" + city\n",
    "    \n",
    "    return address"
   ]
  },
  {
   "cell_type": "code",
   "execution_count": 19,
   "id": "22d4d829",
   "metadata": {},
   "outputs": [
    {
     "data": {
      "text/plain": [
       "'ulica Potażowa 31 Warszawa'"
      ]
     },
     "execution_count": 19,
     "metadata": {},
     "output_type": "execute_result"
    }
   ],
   "source": [
    "generate_address(\"ADRESY.csv\")"
   ]
  },
  {
   "cell_type": "code",
   "execution_count": 23,
   "id": "8188b97f",
   "metadata": {},
   "outputs": [],
   "source": [
    "def generate_gender():\n",
    "\n",
    "    x = random.random()\n",
    "    \n",
    "    if 0 < x < 0.01:\n",
    "        return \"OTHER\"\n",
    "    elif 0.01 < x < 0.522:\n",
    "        return \"FEMALE\"\n",
    "    else:\n",
    "        return \"MALE\""
   ]
  },
  {
   "cell_type": "code",
   "execution_count": 28,
   "id": "234a013a",
   "metadata": {},
   "outputs": [
    {
     "data": {
      "text/plain": [
       "'MALE'"
      ]
     },
     "execution_count": 28,
     "metadata": {},
     "output_type": "execute_result"
    }
   ],
   "source": [
    "generate_gender()"
   ]
  },
  {
   "cell_type": "code",
   "execution_count": 24,
   "id": "90b7ed01",
   "metadata": {},
   "outputs": [],
   "source": [
    "def generate_depart_date(company_start, current_date):\n",
    "    \n",
    "    \"\"\"\n",
    "    Funkcja zwraca datę odejścia pracownika lub gracza,\n",
    "    musimy ustalić z jakimś prawdopodobieństwem ludzie odchodzą\n",
    "    \"\"\"\n",
    "    \n",
    "    x = random.random()\n",
    "    \n",
    "    if 0 < x < 0.1:\n",
    "        date = random_date(company_start, current_date)\n",
    "    else:\n",
    "        date = \"01/01/9999\"\n",
    "        date = dt.datetime.strptime(date, '%d/%m/%Y')\n",
    "    \n",
    "    \n",
    "    return date"
   ]
  },
  {
   "cell_type": "code",
   "execution_count": 145,
   "id": "1c49df14",
   "metadata": {},
   "outputs": [
    {
     "data": {
      "text/plain": [
       "datetime.datetime(1979, 2, 18, 0, 0)"
      ]
     },
     "execution_count": 145,
     "metadata": {},
     "output_type": "execute_result"
    }
   ],
   "source": [
    "generate_depart_date(\"01/01/1922\", \"01/06/2022\")"
   ]
  },
  {
   "cell_type": "code",
   "execution_count": 25,
   "id": "3c867e5f",
   "metadata": {},
   "outputs": [],
   "source": [
    "def generate_income(min_income, max_income):\n",
    "    \n",
    "    \"\"\"\n",
    "    Funckcja zwraca losowe dochody danego pracownika.\n",
    "    \"\"\"\n",
    "    \n",
    "    income = random.randint(min_income ,max_income)\n",
    "    \n",
    "    return income"
   ]
  },
  {
   "cell_type": "code",
   "execution_count": null,
   "id": "6c113a72",
   "metadata": {},
   "outputs": [],
   "source": []
  },
  {
   "cell_type": "code",
   "execution_count": null,
   "id": "26547cd3",
   "metadata": {},
   "outputs": [],
   "source": []
  },
  {
   "cell_type": "code",
   "execution_count": 66,
   "id": "d4b61042",
   "metadata": {},
   "outputs": [],
   "source": [
    "def fill(cursor):\n",
    "    \n",
    "    staff_depart_dates = []\n",
    "    def info_fill_staff():\n",
    "\n",
    "\n",
    "        for i in range(1, 16):\n",
    "\n",
    "            gender = generate_gender()\n",
    "            if gender == \"FEMALE\":\n",
    "                file1 = \"IMIONA_ZENSKIE.csv\"\n",
    "                file2 = \"NAZWISKA_ZENSKIE.csv\"\n",
    "            elif gender == \"MALE\":\n",
    "                file1 = \"IMIONA_MESKIE.csv\"\n",
    "                file2 = \"NAZWISKA_MESKIE.csv\"\n",
    "            else:\n",
    "                x = random.random()\n",
    "                if 0 < x < 0.5:\n",
    "                    file1 = \"IMIONA_ZENSKIE.csv\"\n",
    "                    file2 = \"NAZWISKA_ZENSKIE.csv\"\n",
    "                else:\n",
    "                    file1 = \"IMIONA_MESKIE.csv\"\n",
    "                    file2 = \"NAZWISKA_MESKIE.csv\"\n",
    "\n",
    "\n",
    "            first_name = generate_name(file1)\n",
    "            last_name = generate_surname(file2)\n",
    "            address = generate_address(\"ADRESY.csv\")\n",
    "            join_date = dt.date(2021, 1, 1)\n",
    "            depart_date = generate_depart_date(dt.datetime(2021, 1, 1), dt.datetime(2022, 6, 1))\n",
    "\n",
    "            if depart_date != dt.datetime(9999, 1, 1, 0, 0):\n",
    "                staff_depart_dates.append((i, depart_date))\n",
    "\n",
    "            birth_date = random_date(dt.datetime(1958, 1, 1), dt.datetime(2004, 1, 1))\n",
    "            email = generate_email(first_name, last_name)\n",
    "            phone = generate_phone()\n",
    "\n",
    "            qr = ('INSERT INTO team9.Info ' \n",
    "                  '(InfoID, FirstName, LastName, Address, JoinDate, DepartDate, BirthDate, Email, Phone, Gender) ' \n",
    "                  'VALUES (%s, %s, %s, %s, %s, %s, %s, %s, %s, %s)')\n",
    "            cursor.execute(qr, (i, first_name, last_name, address, join_date, depart_date, birth_date, email, phone, gender))\n",
    "            \n",
    "            \n",
    "            \n",
    "        for i in range(1, len(staff_depart_dates)+1):\n",
    "            \n",
    "            gender = generate_gender()\n",
    "            if gender == \"FEMALE\":\n",
    "                file1 = \"IMIONA_ZENSKIE.csv\"\n",
    "                file2 = \"NAZWISKA_ZENSKIE.csv\"\n",
    "            elif gender == \"MALE\":\n",
    "                file1 = \"IMIONA_MESKIE.csv\"\n",
    "                file2 = \"NAZWISKA_MESKIE.csv\"\n",
    "            else:\n",
    "                x = random.random()\n",
    "                if 0 < x < 0.5:\n",
    "                    file1 = \"IMIONA_ZENSKIE.csv\"\n",
    "                    file2 = \"NAZWISKA_ZENSKIE.csv\"\n",
    "                else:\n",
    "                    file1 = \"IMIONA_MESKIE.csv\"\n",
    "                    file2 = \"NAZWISKA_MESKIE.csv\"\n",
    "\n",
    "\n",
    "            first_name = generate_name(file1)\n",
    "            last_name = generate_surname(file2)\n",
    "            address = generate_address(\"ADRESY.csv\")\n",
    "            birth_date = random_date(dt.datetime(1958, 1, 1), dt.datetime(2004, 1, 1))\n",
    "            email = generate_email(first_name, last_name)\n",
    "            phone = generate_phone()\n",
    "            join_date = staff_depart_dates[i-1][1]\n",
    "            depart_date = dt.datetime(9999, 1, 1, 0, 0)\n",
    "            \n",
    "            qr = ('INSERT INTO team9.Info ' \n",
    "                  '(InfoID, FirstName, LastName, Address, JoinDate, DepartDate, BirthDate, Email, Phone, Gender) ' \n",
    "                  'VALUES (%s, %s, %s, %s, %s, %s, %s, %s, %s, %s)')\n",
    "            cursor.execute(qr, (i+15, first_name, last_name, address, join_date, depart_date, birth_date, email, phone, gender))\n",
    "            \n",
    "    def staff_fill():\n",
    "        \n",
    "        positions = {1:\"PREZES\", 2:\"WICEPREZES\", 3:\"KSIĘGOWY\", 4:\"WOŹNY\", 13:\"FIZJOTERAPEUTA\", 14:\"KONSERWATOR LODU\",\n",
    "                    15:\"ZŁOTA RĄCZKA\"}\n",
    "        positions.update(dict.fromkeys([5, 6, 7, 8, 9, 10, 11, 12], \"TRENER\"))\n",
    "\n",
    "        \n",
    "        for i in range(1,16):\n",
    "            qr = ('INSERT INTO team9.Staff ' \n",
    "                  '(StaffID, Position, InfoID) ' \n",
    "                  'VALUES (%s, %s, %s)')\n",
    "\n",
    "            cursor.execute(qr, (i, positions[i], i))\n",
    "            \n",
    "        for i in range(1, len(staff_depart_dates)+1):\n",
    "            qr = ('INSERT INTO team9.Staff ' \n",
    "                  '(StaffID, Position, InfoID) ' \n",
    "                  'VALUES (%s, %s, %s)')\n",
    "            \n",
    "            cursor.execute(qr, (i+15, positions[i], i+15))\n",
    "\n",
    "            \n",
    "                \n",
    "            \n",
    "            \n",
    "            \n",
    "    info_fill_staff()\n",
    "    staff_fill()\n"
   ]
  },
  {
   "cell_type": "code",
   "execution_count": 43,
   "id": "0c6e5c9c",
   "metadata": {},
   "outputs": [],
   "source": [
    "qr = \"\"\"SELECT InfoID FROM team9.Info\"\"\"\n",
    "cursor.execute(qr)"
   ]
  },
  {
   "cell_type": "code",
   "execution_count": 46,
   "id": "d127a249",
   "metadata": {},
   "outputs": [
    {
     "data": {
      "text/plain": [
       "3"
      ]
     },
     "execution_count": 46,
     "metadata": {},
     "output_type": "execute_result"
    }
   ],
   "source": [
    "cursor.fetchone()[0]"
   ]
  },
  {
   "cell_type": "code",
   "execution_count": null,
   "id": "1193f64f",
   "metadata": {},
   "outputs": [],
   "source": [
    "def fill2(cursor):\n",
    "    \n",
    "    staff_depart_dates = []\n",
    "    def info_fill_staff():\n",
    "        \n",
    "        for i in range(15): # mamy 15 pracownikow\n",
    "\n",
    "            gender = generate_gender()\n",
    "            if gender == \"FEMALE\":\n",
    "                file1 = \"IMIONA_ZENSKIE.csv\"\n",
    "                file2 = \"NAZWISKA_ZENSKIE.csv\"\n",
    "            elif gender == \"MALE\":\n",
    "                file1 = \"IMIONA_MESKIE.csv\"\n",
    "                file2 = \"NAZWISKA_MESKIE.csv\"\n",
    "            else:\n",
    "                x = random.random()\n",
    "                if 0 < x < 0.5:\n",
    "                    file1 = \"IMIONA_ZENSKIE.csv\"\n",
    "                    file2 = \"NAZWISKA_ZENSKIE.csv\"\n",
    "                else:\n",
    "                    file1 = \"IMIONA_MESKIE.csv\"\n",
    "                    file2 = \"NAZWISKA_MESKIE.csv\"\n",
    "\n",
    "\n",
    "            first_name = generate_name(file1)\n",
    "            last_name = generate_surname(file2)\n",
    "            address = generate_address(\"ADRESY.csv\")\n",
    "            join_date = dt.date(2021, 1, 1)\n",
    "            depart_date = generate_depart_date(\"01/01/2021\", \"01/06/2022\")\n",
    "            birth_date = random_date(\"01/01/1958\", \"01/01/2004\")\n",
    "            email = generate_email(first_name, last_name)\n",
    "            phone = generate_phone()\n",
    "\n",
    "   \n",
    "            j = 0\n",
    "            while depart_date != dt.datetime(9999, 1, 1, 0, 0):\n",
    "                staff_depart_dates.append((i+j, depart_date))\n",
    "\n",
    "                gender = generate_gender()\n",
    "                if gender == \"FEMALE\":\n",
    "                    file1 = \"IMIONA_ZENSKIE.csv\"\n",
    "                    file2 = \"NAZWISKA_ZENSKIE.csv\"\n",
    "                elif gender == \"MALE\":\n",
    "                    file1 = \"IMIONA_MESKIE.csv\"\n",
    "                    file2 = \"NAZWISKA_MESKIE.csv\"\n",
    "                else:\n",
    "                    x = random.random()\n",
    "                    if 0 < x < 0.5:\n",
    "                        file1 = \"IMIONA_ZENSKIE.csv\"\n",
    "                        file2 = \"NAZWISKA_ZENSKIE.csv\"\n",
    "                    else:\n",
    "                        file1 = \"IMIONA_MESKIE.csv\"\n",
    "                        file2 = \"NAZWISKA_MESKIE.csv\"\n",
    "\n",
    "                first_name = generate_name(file1)\n",
    "                last_name = generate_surname(file2)\n",
    "                address = generate_address(\"ADRESY.csv\")\n",
    "                join_date = depart_date\n",
    "                depart_date = generate_depart_date(depart_date, \"01/06/2022\")\n",
    "                birth_date = random_date(\"01/01/1958\", \"01/01/2004\")\n",
    "                email = generate_email(first_name, last_name)\n",
    "                phone = generate_phone()\n",
    "                \n",
    "                qr = ('INSERT INTO team9.Info ' \n",
    "                  '(InfoID, FirstName, LastName, Address, JoinDate, DepartDate, BirthDate, Email, Phone, Gender) ' \n",
    "                  'VALUES (%s, %s, %s, %s, %s, %s, %s, %s, %s, %s)')\n",
    "                cursor.execute(qr, (i+j, first_name, last_name, address, join_date, depart_date, birth_date, email, phone, gender))\n",
    "            \n",
    "                j = j+1\n",
    "                    \n",
    "\n",
    "            qr = ('INSERT INTO team9.Info ' \n",
    "                  '(InfoID, FirstName, LastName, Address, JoinDate, DepartDate, BirthDate, Email, Phone, Gender) ' \n",
    "                  'VALUES (%s, %s, %s, %s, %s, %s, %s, %s, %s, %s)')\n",
    "            cursor.execute(qr, (i+1, first_name, last_name, address, join_date, depart_date, birth_date, email, phone, gender))\n",
    "            \n",
    "        "
   ]
  },
  {
   "cell_type": "code",
   "execution_count": 70,
   "id": "ea7706dd",
   "metadata": {},
   "outputs": [],
   "source": [
    "fill(cursor)"
   ]
  },
  {
   "cell_type": "code",
   "execution_count": null,
   "id": "259124fe",
   "metadata": {},
   "outputs": [],
   "source": [
    "def fill_items(cursor):\n",
    "    #wstępna tabela items i itemcosts. nie dawałem tutaj ciuchów, bo wsm nie pamietam na czym stanelo\n",
    "    \n",
    "    qr_itemCosts = ('INSERT INTO team9.ItemCosts ' \n",
    "          '(Date, Amount) ' \n",
    "          'VALUES (%s, %s)')\n",
    "    \n",
    "    qr_item = ('INSERT INTO team9.Items ' \n",
    "          '(Size, PaymentID, Type, Broken) ' \n",
    "          'VALUES (%s, %s, %s, %s)')\n",
    "    \n",
    "    #liczba poszczególnych itemów i ich cena. Odpowiednio: kamienie, szczotki, buty i ta maszyna do lodu\n",
    "    items_price = {35:random.randint(5000,7000), 30:random.randint(200,400), 20:random.randint(500,700), 1:random.randint(150000,200000)}\n",
    "    \n",
    "    #dodajemy ceny. Wszystko kupujemy w pierwszy dzien dzialalnosci klubu\n",
    "    for key, val in items_price.items():\n",
    "        for i in range(key):\n",
    "            cursor.execute(qr_itemCosts, (dt.date(2021, 1, 1), val))\n",
    "    \n",
    "    #dodajemy itemy i odpowiedni klucz do ceny. Sprzet moze byc zepsuty z prawdop. 5%\n",
    "    for i in range(35):\n",
    "        cursor.execute(qr_item, ('-', i+1, 'KAMIEN', np.random.binomial(1, 0.05)))\n",
    "    for i in range(30):\n",
    "        cursor.execute(qr_item, ('-', i+36, 'SZCZOTKA', np.random.binomial(1, 0.05)))\n",
    "    for i in range(20):\n",
    "        #losujemy numer buta\n",
    "        cursor.execute(qr_item, (str(random.randint(33,45)), i+66, 'BUTY', np.random.binomial(1, 0.05)))\n",
    "        \n",
    "    #maszyna za ponad 150 koła nie może się zepsuć xd\n",
    "    cursor.execute(qr_item, ('-', 86, 'ROLBA', 0))"
   ]
  },
  {
   "cell_type": "code",
   "execution_count": null,
   "id": "8f3d17db",
   "metadata": {},
   "outputs": [],
   "source": []
  },
  {
   "cell_type": "code",
   "execution_count": 71,
   "id": "0d89f96c",
   "metadata": {},
   "outputs": [],
   "source": [
    "my_connection.commit()\n",
    "cursor.close()\n",
    "my_connection.close()"
   ]
  },
  {
   "cell_type": "code",
   "execution_count": null,
   "id": "3337e2bd",
   "metadata": {},
   "outputs": [],
   "source": []
  }
 ],
 "metadata": {
  "kernelspec": {
   "display_name": "Python 3 (ipykernel)",
   "language": "python",
   "name": "python3"
  },
  "language_info": {
   "codemirror_mode": {
    "name": "ipython",
    "version": 3
   },
   "file_extension": ".py",
   "mimetype": "text/x-python",
   "name": "python",
   "nbconvert_exporter": "python",
   "pygments_lexer": "ipython3",
   "version": "3.9.7"
  }
 },
 "nbformat": 4,
 "nbformat_minor": 5
}
